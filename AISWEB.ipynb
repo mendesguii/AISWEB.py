{
 "cells": [
  {
   "cell_type": "code",
   "execution_count": null,
   "id": "5678149c",
   "metadata": {},
   "outputs": [],
   "source": [
    "import bs4 as bs\n",
    "import html5lib\n",
    "import requests"
   ]
  },
  {
   "cell_type": "code",
   "execution_count": null,
   "id": "30f9d0ec",
   "metadata": {},
   "outputs": [],
   "source": [
    "def downloadFile(fileName,url):\n",
    "    response = requests.get(url)\n",
    "    open(fileName.replace(\"/\",\"_\")+\".pdf\", \"wb\").write(response.content)\n",
    "\n",
    "def getFileUrls(icao):\n",
    "    listFiles = []\n",
    "    url = \"https://aisweb.decea.mil.br/?i=aerodromos&codigo=\"+icao.upper()\n",
    "    r = requests.get(url)\n",
    "    soup = bs.BeautifulSoup(r.text,\"html5lib\")\n",
    "    column = soup.find(\"div\",class_=\"col-lg-4 order-sm-12\")\n",
    "    typeCount = 0\n",
    "    for item in column.find_all(\"ul\",{\"class\":\"list list-icons list-primary list-icons-style-2\"}):\n",
    "        for chart in item.find_all(\"li\"):\n",
    "            listTemp = [chart.text.strip(),chart.a[\"href\"],typeCount]\n",
    "            listFiles.append(listTemp)\n",
    "        typeCount += 1\n",
    "    return listFiles\n",
    "\n",
    "def SelectFiles(icao):\n",
    "    lastID = 0\n",
    "    counter = 0\n",
    "    charts = getFileUrls(icao)\n",
    "    for item in charts:\n",
    "        if item[2] != lastID:\n",
    "            print(\"-------\")\n",
    "        print(counter,item[0],item[1])\n",
    "        lastID = item[2]\n",
    "        counter += 1\n",
    "    while(True):\n",
    "        a = input(\"# to Download: \")\n",
    "        if(a == \"exit\"):\n",
    "            break\n",
    "        else:\n",
    "            downloadFile(charts[int(a)][0],charts[int(a)][1])\n",
    "            print(\"- Download Completed\")\n",
    "    "
   ]
  },
  {
   "cell_type": "code",
   "execution_count": null,
   "id": "ffc28092",
   "metadata": {
    "scrolled": true
   },
   "outputs": [],
   "source": [
    "SelectFiles(\"sbcf\")"
   ]
  }
 ],
 "metadata": {
  "kernelspec": {
   "display_name": "Python 3 (ipykernel)",
   "language": "python",
   "name": "python3"
  },
  "language_info": {
   "codemirror_mode": {
    "name": "ipython",
    "version": 3
   },
   "file_extension": ".py",
   "mimetype": "text/x-python",
   "name": "python",
   "nbconvert_exporter": "python",
   "pygments_lexer": "ipython3",
   "version": "3.10.2"
  }
 },
 "nbformat": 4,
 "nbformat_minor": 5
}
